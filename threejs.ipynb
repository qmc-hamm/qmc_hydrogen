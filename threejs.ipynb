{
 "cells": [
  {
   "cell_type": "markdown",
   "id": "1b0c76d2-3230-4db8-8178-3720aeaf7bf8",
   "metadata": {},
   "source": [
    "### Dataset Download"
   ]
  },
  {
   "cell_type": "markdown",
   "id": "45a7a7bc-2ff9-4580-baaa-7453df5c28e4",
   "metadata": {},
   "source": [
    "Dataset can be downloaded from yt-hub https://girder.hub.yt/#folder/5e6d2a7168085e00018c9088, and there should be 1594 files in total"
   ]
  },
  {
   "cell_type": "markdown",
   "id": "c3b1885e-2fd0-4f64-ba96-de6765cc96c6",
   "metadata": {},
   "source": [
    "### Environment Setup"
   ]
  },
  {
   "cell_type": "markdown",
   "id": "b2354ba3-b8fd-4675-b780-5227a5f78330",
   "metadata": {},
   "source": [
    "We will use the ASE package to digest the `.traj` files and here is the installation instruction https://wiki.fysik.dtu.dk/ase/install.html"
   ]
  },
  {
   "cell_type": "code",
   "execution_count": 1,
   "id": "205b4b2c-a4a4-4465-b47c-d93015f4461f",
   "metadata": {},
   "outputs": [],
   "source": [
    "from ase.io.trajectory import Trajectory\n",
    "import matplotlib.pyplot as plt\n",
    "import os\n",
    "import h5py\n",
    "import numpy as np"
   ]
  },
  {
   "cell_type": "markdown",
   "id": "9823de7b-3905-4042-9e2c-6b2f3c006d39",
   "metadata": {},
   "source": [
    "### File Information"
   ]
  },
  {
   "cell_type": "code",
   "execution_count": 2,
   "id": "2b39bf15-97ba-4297-b5e4-ba1df67353ce",
   "metadata": {},
   "outputs": [],
   "source": [
    "def gather_folder_info(root_folder):\n",
    "    # Create an empty dictionary to store information\n",
    "    folder_info = {}\n",
    "    \n",
    "    # Check if the provided root folder exists\n",
    "    if not os.path.exists(root_folder):\n",
    "        print(f\"The folder {root_folder} does not exist.\")\n",
    "        return folder_info\n",
    "\n",
    "    # Walk through the directory\n",
    "    for dirpath, dirnames, filenames in os.walk(root_folder):\n",
    "        # Check if the current directory is the root directory\n",
    "        if dirpath == root_folder:\n",
    "            continue\n",
    "        \n",
    "        # Filter out files that match the 'traj' extension\n",
    "        traj_files = [f for f in filenames if f.endswith('.traj')]\n",
    "\n",
    "        # If there are 'traj' files in the current directory, store them in the dictionary\n",
    "        if traj_files:\n",
    "            relative_path = os.path.relpath(dirpath, root_folder)\n",
    "            folder_info[relative_path] = traj_files\n",
    "\n",
    "    return folder_info"
   ]
  },
  {
   "cell_type": "code",
   "execution_count": 3,
   "id": "06e72336-172a-4185-8f7c-40f441b50142",
   "metadata": {},
   "outputs": [],
   "source": [
    "def generate_full_paths(base_folder, folder_dictionary):\n",
    "    full_paths = []\n",
    "\n",
    "    for subfolder, files in folder_dictionary.items():\n",
    "        for file in files:\n",
    "            # Join the base folder, subfolder, and file name to get the full path\n",
    "            full_path = os.path.join(base_folder, subfolder, file)\n",
    "            full_paths.append(full_path)\n",
    "\n",
    "    return full_paths"
   ]
  },
  {
   "cell_type": "code",
   "execution_count": 4,
   "id": "f98a28b9-e9cc-452a-a9d3-c5f81c5734ac",
   "metadata": {},
   "outputs": [],
   "source": [
    "full_paths_list = generate_full_paths(\"files\",gather_folder_info(\"files\") )"
   ]
  },
  {
   "cell_type": "code",
   "execution_count": 5,
   "id": "7cb7a8c1-f523-4596-8cd1-f08484a4897f",
   "metadata": {},
   "outputs": [
    {
     "data": {
      "text/plain": [
       "['files/f54-ipc/npt-p175-t1800-b0.dmc_mean.traj',\n",
       " 'files/f54-ipc/npt-p175-t600-b0.dmc_mean.traj',\n",
       " 'files/f54-ipc/npt-p200-t1200-b0.dmc_mean.traj',\n",
       " 'files/f54-ipc/npt-p175-t800-b0.dmc_mean.traj',\n",
       " 'files/f54-ipc/npt-p175-t1600-b0.dmc_mean.traj']"
      ]
     },
     "execution_count": 5,
     "metadata": {},
     "output_type": "execute_result"
    }
   ],
   "source": [
    "full_paths_list[:5]"
   ]
  },
  {
   "cell_type": "markdown",
   "id": "feda695e-2cc9-4b66-8126-65bf1afc572e",
   "metadata": {},
   "source": [
    "## Visualization"
   ]
  },
  {
   "cell_type": "code",
   "execution_count": 6,
   "id": "49975ae0-9f1b-48b3-b0c4-5fbb1e5d7357",
   "metadata": {},
   "outputs": [],
   "source": [
    "fn = full_paths_list[0]\n",
    "traj = Trajectory(fn)\n",
    "number_atom = len(traj)\n",
    "traj_positions = []\n",
    "for atom_id in range(number_atom):\n",
    "    position = traj[atom_id].get_positions()\n",
    "    traj_positions.append(position)\n",
    "threejs_array = np.array(traj_positions)"
   ]
  },
  {
   "cell_type": "code",
   "execution_count": 7,
   "id": "68f02f4a-83b5-4631-88d0-03a7f4f0da0d",
   "metadata": {},
   "outputs": [
    {
     "data": {
      "text/plain": [
       "(13, 96, 3)"
      ]
     },
     "execution_count": 7,
     "metadata": {},
     "output_type": "execute_result"
    }
   ],
   "source": [
    "threejs_array.shape"
   ]
  },
  {
   "cell_type": "code",
   "execution_count": 8,
   "id": "72665f96-de75-472c-94a5-07b9353f607e",
   "metadata": {},
   "outputs": [
    {
     "data": {
      "text/plain": [
       "-45.22910020991855"
      ]
     },
     "execution_count": 8,
     "metadata": {},
     "output_type": "execute_result"
    }
   ],
   "source": [
    "threejs_array.min()"
   ]
  },
  {
   "cell_type": "code",
   "execution_count": 9,
   "id": "2f8a8afb-891b-4589-95f3-66d0313200c9",
   "metadata": {},
   "outputs": [
    {
     "data": {
      "text/plain": [
       "52.15400022557109"
      ]
     },
     "execution_count": 9,
     "metadata": {},
     "output_type": "execute_result"
    }
   ],
   "source": [
    "threejs_array.max()"
   ]
  },
  {
   "cell_type": "code",
   "execution_count": 10,
   "id": "f7f02416-1b2e-4c9b-9b71-f156e03ea5ce",
   "metadata": {},
   "outputs": [],
   "source": [
    "from pythreejs import *\n",
    "from IPython.display import display, clear_output\n",
    "import numpy as np\n",
    "import ipywidgets as widgets\n",
    "import time\n",
    "\n",
    "\n",
    "def center_positions_around_average(arr):\n",
    "    \"\"\"Subtracts the average position at each timestamp from every atom's position.\"\"\"\n",
    "    avg_positions = np.mean(arr, axis=0)\n",
    "    centered_positions = arr - avg_positions\n",
    "    return centered_positions\n",
    "\n",
    "def visualize_atomic_positions(arr):\n",
    "    arr = center_positions_around_average(arr)  # Center the positions\n",
    "    \n",
    "    # Validate array shape\n",
    "    if arr.shape[1] != 96 or arr.shape[2] != 3:\n",
    "        raise ValueError(\"The array dimensions do not match the expected shape (_, 96, 3).\")\n",
    "\n",
    "    # Create a basic material for the atoms\n",
    "    atom_material = MeshStandardMaterial(color='blue', roughness=0.8, metalness=0.8)\n",
    "\n",
    "    # Trajectory material\n",
    "    trajectory_material = LineBasicMaterial(color='lightgray')  # This will make the trajectory appear red\n",
    "    trajectories = []\n",
    "    \n",
    "    # Create a list to hold all atomic meshes for the first timestamp\n",
    "    meshes = []\n",
    "    \n",
    "    # Calculate cube center and dimensions once\n",
    "    min_bounds = np.min(arr, axis=(0,1))\n",
    "    max_bounds = np.max(arr, axis=(0,1))\n",
    "    bounding_dimensions = max_bounds - min_bounds\n",
    "    cube_center = (max_bounds + min_bounds) / 2.0\n",
    "\n",
    "    # Add a bounding cube to the scene\n",
    "    cube_geometry = BoxGeometry(bounding_dimensions[0], bounding_dimensions[1], bounding_dimensions[2])\n",
    "    cube_material = LineBasicMaterial(color='gray')\n",
    "    edges = EdgesGeometry(cube_geometry)\n",
    "    bounding_cube = LineSegments(edges, cube_material)\n",
    "    bounding_cube.position = cube_center.tolist()\n",
    "    meshes.append(bounding_cube)\n",
    "\n",
    "    for atom_idx in range(arr.shape[0]):\n",
    "        x, y, z = arr[atom_idx, 0]\n",
    "        # Create a mesh for the atom and add to the list\n",
    "        geometry = SphereGeometry(radius=1)\n",
    "        mesh = Mesh(geometry=geometry, material=atom_material, position=(x, y, z))\n",
    "        meshes.append(mesh)\n",
    "    \n",
    "    # Scene setup\n",
    "    scene = Scene(children=meshes)\n",
    "\n",
    "\n",
    "    # Add trajectories for each atom\n",
    "    for atom_idx in range(arr.shape[0]):\n",
    "        # For initialization, just use the first position\n",
    "        trajectory_positions = arr[atom_idx, :1]\n",
    "        trajectory_geometry = BufferGeometry(attributes={\n",
    "            'position': BufferAttribute(trajectory_positions, normalized=False)\n",
    "        })\n",
    "        trajectory_line = Line(geometry=trajectory_geometry, material=trajectory_material)\n",
    "        scene.add(trajectory_line)\n",
    "        trajectories.append(trajectory_line)\n",
    "    \n",
    "    # Modify the scene\n",
    "    point_light = PointLight(position=[cube_center[0], cube_center[1], cube_center[2]], intensity=10)\n",
    "    ambient_light = AmbientLight(intensity=1.5)\n",
    "    scene.add(point_light)\n",
    "    scene.add(ambient_light)\n",
    "    camera_distance = np.linalg.norm(bounding_dimensions) / np.tan(np.pi/8) \n",
    "    camera_position = [cube_center[0], cube_center[1], cube_center[2] + camera_distance]\n",
    "    camera = PerspectiveCamera(position=camera_position, fov=40)\n",
    "    camera.lookAt(cube_center.tolist())\n",
    "    renderer = Renderer(scene=scene, camera=camera, controls=[OrbitControls(controlling=camera)], width=600, height=400, background='black')\n",
    "\n",
    "    # Slider widget to control timestamp\n",
    "    timestamp_slider = widgets.IntSlider(\n",
    "        value=0,\n",
    "        min=0,\n",
    "        max=arr.shape[1]-1,\n",
    "        step=1,\n",
    "        description='Timestamp:',\n",
    "        continuous_update=True\n",
    "    )\n",
    "\n",
    "    # Autoplay button and its functionality\n",
    "    autoplay_button = widgets.ToggleButton(value=False, description='Autoplay', button_style='')\n",
    "\n",
    "    def update(change):\n",
    "        timestamp = change['new']\n",
    "        for atom_idx, mesh in enumerate(meshes[1:]): # Excluding the bounding_cube\n",
    "            mesh.position = tuple(arr[atom_idx, timestamp])\n",
    "\n",
    "    def on_autoplay_button_click(change):\n",
    "        if change['new']:  # If button turned on\n",
    "            for timestamp in range(timestamp_slider.value, arr.shape[1]):\n",
    "                timestamp_slider.value = timestamp\n",
    "                \n",
    "                # Update trajectory lines\n",
    "                for atom_idx, trajectory_line in enumerate(trajectories):\n",
    "                    trajectory_positions = arr[atom_idx, :timestamp+1]  # Up to the current timestamp\n",
    "                    trajectory_line.geometry.attributes['position'].array = trajectory_positions\n",
    "                    trajectory_line.geometry.attributes['position'].needsUpdate = True\n",
    "                time.sleep(0.2)  # Interval between updates\n",
    "\n",
    "            autoplay_button.value = False\n",
    "\n",
    "    def on_reset_button_click(_):\n",
    "        # Reset atom positions\n",
    "        for atom_idx, mesh in enumerate(scene.children[1:arr.shape[0]+1]):  # Adjust indices to point to atom meshes\n",
    "            mesh.position = tuple(arr[atom_idx, 0])\n",
    "            \n",
    "        # Clear trajectories\n",
    "        for trajectory_line in trajectories:\n",
    "            trajectory_positions = arr[atom_idx, :1]  # Just the first position\n",
    "            trajectory_line.geometry.attributes['position'].array = trajectory_positions\n",
    "            trajectory_line.geometry.attributes['position'].needsUpdate = True\n",
    "\n",
    "        # Reset autoplay button and timestamp slider\n",
    "        autoplay_button.value = False\n",
    "        timestamp_slider.value = 0\n",
    "\n",
    "    reset_button = widgets.Button(description=\"Reset\")\n",
    "    reset_button.on_click(on_reset_button_click)\n",
    "    \n",
    "    timestamp_slider.observe(update, names='value')\n",
    "    autoplay_button.observe(on_autoplay_button_click, names='value')\n",
    "    \n",
    "    # Display the renderer, the slider, and the autoplay button\n",
    "    display(widgets.VBox([timestamp_slider, autoplay_button, reset_button, renderer]))"
   ]
  },
  {
   "cell_type": "code",
   "execution_count": 11,
   "id": "46d023bb-8abe-43ca-97ba-f41163d99c9a",
   "metadata": {},
   "outputs": [
    {
     "data": {
      "text/plain": [
       "array([[ -4.65558541,   1.41192623, -13.10233006],\n",
       "       [  7.81929465,  -5.35155379,  20.05178009],\n",
       "       [ -3.7954154 ,  -1.03208377, -12.53833004],\n",
       "       [ -2.4028554 ,   6.71027626,  -9.77243005],\n",
       "       [ -7.15022542,   1.36971623,   1.59637001],\n",
       "       [ -0.92597539,   4.67604625, -10.68553005],\n",
       "       [  3.95998463,  -4.34627879,   7.55397003],\n",
       "       [ -3.5671554 ,  -1.87788378,  -1.62073002],\n",
       "       [ -3.7046354 ,   3.70284625,  -2.35023001],\n",
       "       [  6.07659464,  -4.17460479,   9.75797004],\n",
       "       [  7.64049464,  -3.31533678,  15.37485007],\n",
       "       [ -3.9888154 ,   5.39493625,  -4.23913002],\n",
       "       [  4.69429464,  -3.16800578,  -0.02623   ]])"
      ]
     },
     "execution_count": 11,
     "metadata": {},
     "output_type": "execute_result"
    }
   ],
   "source": [
    "# each timestamp, we will get (13,3)\n",
    "threejs_array[:, 0, :]\n",
    "# mean for the array\n",
    "np.mean(threejs_array[:, 0, :],axis=0)\n",
    "threejs_array[:, 0, :]-np.mean(threejs_array[:, 0, :],axis=0)\n",
    "# center_positions_around_average(threejs_array)[:,0,:]"
   ]
  },
  {
   "cell_type": "code",
   "execution_count": 12,
   "id": "aba507aa-0916-4ed3-a448-acb6b5792d33",
   "metadata": {},
   "outputs": [
    {
     "name": "stderr",
     "output_type": "stream",
     "text": [
      "/Users/yilinxia/opt/miniconda3/envs/qmc/lib/python3.12/site-packages/pythreejs/traits.py:257: UserWarning: 64-bit data types not supported for WebGL data, casting to 32-bit.\n",
      "  warnings.warn('64-bit data types not supported for WebGL '\n"
     ]
    },
    {
     "data": {
      "application/vnd.jupyter.widget-view+json": {
       "model_id": "184339da2fc54896a196ae4e00f03cee",
       "version_major": 2,
       "version_minor": 0
      },
      "text/plain": [
       "VBox(children=(IntSlider(value=0, description='Timestamp:', max=95), ToggleButton(value=False, description='Au…"
      ]
     },
     "metadata": {},
     "output_type": "display_data"
    }
   ],
   "source": [
    "visualize_atomic_positions(threejs_array)"
   ]
  }
 ],
 "metadata": {
  "kernelspec": {
   "display_name": "Python 3 (ipykernel)",
   "language": "python",
   "name": "python3"
  },
  "language_info": {
   "codemirror_mode": {
    "name": "ipython",
    "version": 3
   },
   "file_extension": ".py",
   "mimetype": "text/x-python",
   "name": "python",
   "nbconvert_exporter": "python",
   "pygments_lexer": "ipython3",
   "version": "3.12.0"
  }
 },
 "nbformat": 4,
 "nbformat_minor": 5
}
